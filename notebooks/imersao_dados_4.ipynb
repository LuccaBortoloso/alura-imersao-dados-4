{
 "cells": [
  {
   "cell_type": "markdown",
   "id": "ce14cb8a",
   "metadata": {},
   "source": [
    "# Imports"
   ]
  },
  {
   "cell_type": "code",
   "execution_count": 13,
   "id": "977c294c",
   "metadata": {},
   "outputs": [],
   "source": [
    "import pandas as pd\n",
    "import numpy as np\n",
    "import matplotlib.pyplot as plt"
   ]
  },
  {
   "cell_type": "markdown",
   "id": "11df612b",
   "metadata": {},
   "source": [
    "# Carregando o dataset"
   ]
  },
  {
   "cell_type": "code",
   "execution_count": 2,
   "id": "d1981be2",
   "metadata": {},
   "outputs": [],
   "source": [
    "url = 'https://gist.githubusercontent.com/tgcsantos/3bdb29eba6ce391e90df2b72205ba891/raw/22fa920e80c9fa209a9fccc8b52d74cc95d1599b/dados_imoveis.csv'\n",
    "df = pd.read_csv(url)"
   ]
  },
  {
   "cell_type": "code",
   "execution_count": 3,
   "id": "9b792738",
   "metadata": {},
   "outputs": [
    {
     "data": {
      "text/html": [
       "<div>\n",
       "<style scoped>\n",
       "    .dataframe tbody tr th:only-of-type {\n",
       "        vertical-align: middle;\n",
       "    }\n",
       "\n",
       "    .dataframe tbody tr th {\n",
       "        vertical-align: top;\n",
       "    }\n",
       "\n",
       "    .dataframe thead th {\n",
       "        text-align: right;\n",
       "    }\n",
       "</style>\n",
       "<table border=\"1\" class=\"dataframe\">\n",
       "  <thead>\n",
       "    <tr style=\"text-align: right;\">\n",
       "      <th></th>\n",
       "      <th>Rua</th>\n",
       "      <th>Bairro</th>\n",
       "      <th>Cidade</th>\n",
       "      <th>Metragem</th>\n",
       "      <th>Quartos</th>\n",
       "      <th>Banheiros</th>\n",
       "      <th>Vagas</th>\n",
       "      <th>Valor</th>\n",
       "    </tr>\n",
       "  </thead>\n",
       "  <tbody>\n",
       "    <tr>\n",
       "      <th>0</th>\n",
       "      <td>Avenida Itacira, 255</td>\n",
       "      <td>Planalto Paulista</td>\n",
       "      <td>São Paulo</td>\n",
       "      <td>1000</td>\n",
       "      <td>4</td>\n",
       "      <td>8</td>\n",
       "      <td>6</td>\n",
       "      <td>R$ 7.000.000</td>\n",
       "    </tr>\n",
       "    <tr>\n",
       "      <th>1</th>\n",
       "      <td>Rua Aurelia Perez Alvarez, 42</td>\n",
       "      <td>Jardim dos Estados</td>\n",
       "      <td>São Paulo</td>\n",
       "      <td>496</td>\n",
       "      <td>4</td>\n",
       "      <td>4</td>\n",
       "      <td>4</td>\n",
       "      <td>R$ 3.700.000</td>\n",
       "    </tr>\n",
       "    <tr>\n",
       "      <th>2</th>\n",
       "      <td>Rua Alba Valdez</td>\n",
       "      <td>Jardim Reimberg</td>\n",
       "      <td>São Paulo</td>\n",
       "      <td>125</td>\n",
       "      <td>4</td>\n",
       "      <td>3</td>\n",
       "      <td>2</td>\n",
       "      <td>R$ 380.000</td>\n",
       "    </tr>\n",
       "    <tr>\n",
       "      <th>3</th>\n",
       "      <td>NaN</td>\n",
       "      <td>Jardim Morumbi</td>\n",
       "      <td>São Paulo</td>\n",
       "      <td>310</td>\n",
       "      <td>3</td>\n",
       "      <td>2</td>\n",
       "      <td>4</td>\n",
       "      <td>R$ 685.000</td>\n",
       "    </tr>\n",
       "    <tr>\n",
       "      <th>4</th>\n",
       "      <td>Rua Tobias Barreto, 195</td>\n",
       "      <td>Mooca</td>\n",
       "      <td>São Paulo</td>\n",
       "      <td>100</td>\n",
       "      <td>3</td>\n",
       "      <td>2</td>\n",
       "      <td>2</td>\n",
       "      <td>R$ 540.000</td>\n",
       "    </tr>\n",
       "  </tbody>\n",
       "</table>\n",
       "</div>"
      ],
      "text/plain": [
       "                              Rua              Bairro     Cidade  Metragem  \\\n",
       "0           Avenida Itacira, 255    Planalto Paulista  São Paulo      1000   \n",
       "1  Rua Aurelia Perez Alvarez, 42   Jardim dos Estados  São Paulo       496   \n",
       "2                 Rua Alba Valdez     Jardim Reimberg  São Paulo       125   \n",
       "3                             NaN      Jardim Morumbi  São Paulo       310   \n",
       "4        Rua Tobias Barreto, 195                Mooca  São Paulo       100   \n",
       "\n",
       "   Quartos  Banheiros  Vagas         Valor  \n",
       "0        4          8      6  R$ 7.000.000  \n",
       "1        4          4      4  R$ 3.700.000  \n",
       "2        4          3      2    R$ 380.000  \n",
       "3        3          2      4    R$ 685.000  \n",
       "4        3          2      2    R$ 540.000  "
      ]
     },
     "execution_count": 3,
     "metadata": {},
     "output_type": "execute_result"
    }
   ],
   "source": [
    "df.head()"
   ]
  },
  {
   "cell_type": "code",
   "execution_count": 4,
   "id": "f2607fa6",
   "metadata": {},
   "outputs": [
    {
     "name": "stdout",
     "output_type": "stream",
     "text": [
      "<class 'pandas.core.frame.DataFrame'>\n",
      "RangeIndex: 10008 entries, 0 to 10007\n",
      "Data columns (total 8 columns):\n",
      " #   Column     Non-Null Count  Dtype \n",
      "---  ------     --------------  ----- \n",
      " 0   Rua        6574 non-null   object\n",
      " 1   Bairro     9996 non-null   object\n",
      " 2   Cidade     10008 non-null  object\n",
      " 3   Metragem   10008 non-null  int64 \n",
      " 4   Quartos    10008 non-null  int64 \n",
      " 5   Banheiros  10008 non-null  int64 \n",
      " 6   Vagas      10008 non-null  int64 \n",
      " 7   Valor      10008 non-null  object\n",
      "dtypes: int64(4), object(4)\n",
      "memory usage: 625.6+ KB\n"
     ]
    }
   ],
   "source": [
    "df.info()"
   ]
  },
  {
   "cell_type": "markdown",
   "id": "a340bdc6",
   "metadata": {},
   "source": [
    "# Aula 01"
   ]
  },
  {
   "cell_type": "markdown",
   "id": "6e177c8e",
   "metadata": {},
   "source": [
    "Analisando a média de metragem do bairro Vila Mariana"
   ]
  },
  {
   "cell_type": "code",
   "execution_count": 8,
   "id": "8fee9cd7",
   "metadata": {},
   "outputs": [
    {
     "data": {
      "text/plain": [
       "184"
      ]
     },
     "execution_count": 8,
     "metadata": {},
     "output_type": "execute_result"
    }
   ],
   "source": [
    "sum(df['Bairro'] == 'Vila Mariana')"
   ]
  },
  {
   "cell_type": "code",
   "execution_count": 9,
   "id": "d826912c",
   "metadata": {},
   "outputs": [
    {
     "data": {
      "text/html": [
       "<div>\n",
       "<style scoped>\n",
       "    .dataframe tbody tr th:only-of-type {\n",
       "        vertical-align: middle;\n",
       "    }\n",
       "\n",
       "    .dataframe tbody tr th {\n",
       "        vertical-align: top;\n",
       "    }\n",
       "\n",
       "    .dataframe thead th {\n",
       "        text-align: right;\n",
       "    }\n",
       "</style>\n",
       "<table border=\"1\" class=\"dataframe\">\n",
       "  <thead>\n",
       "    <tr style=\"text-align: right;\">\n",
       "      <th></th>\n",
       "      <th>Rua</th>\n",
       "      <th>Bairro</th>\n",
       "      <th>Cidade</th>\n",
       "      <th>Metragem</th>\n",
       "      <th>Quartos</th>\n",
       "      <th>Banheiros</th>\n",
       "      <th>Vagas</th>\n",
       "      <th>Valor</th>\n",
       "    </tr>\n",
       "  </thead>\n",
       "  <tbody>\n",
       "    <tr>\n",
       "      <th>100</th>\n",
       "      <td>Rua Pero Correia</td>\n",
       "      <td>Vila Mariana</td>\n",
       "      <td>São Paulo</td>\n",
       "      <td>250</td>\n",
       "      <td>3</td>\n",
       "      <td>3</td>\n",
       "      <td>1</td>\n",
       "      <td>R$ 1.350.000</td>\n",
       "    </tr>\n",
       "    <tr>\n",
       "      <th>120</th>\n",
       "      <td>Praça Doutor Carvalho Franco</td>\n",
       "      <td>Vila Mariana</td>\n",
       "      <td>São Paulo</td>\n",
       "      <td>250</td>\n",
       "      <td>3</td>\n",
       "      <td>5</td>\n",
       "      <td>2</td>\n",
       "      <td>R$ 2.450.000</td>\n",
       "    </tr>\n",
       "    <tr>\n",
       "      <th>155</th>\n",
       "      <td>Rua Professor João Marinho</td>\n",
       "      <td>Vila Mariana</td>\n",
       "      <td>São Paulo</td>\n",
       "      <td>170</td>\n",
       "      <td>3</td>\n",
       "      <td>4</td>\n",
       "      <td>2</td>\n",
       "      <td>R$ 1.490.000</td>\n",
       "    </tr>\n",
       "    <tr>\n",
       "      <th>160</th>\n",
       "      <td>NaN</td>\n",
       "      <td>Vila Mariana</td>\n",
       "      <td>São Paulo</td>\n",
       "      <td>228</td>\n",
       "      <td>4</td>\n",
       "      <td>5</td>\n",
       "      <td>3</td>\n",
       "      <td>R$ 2.200.000</td>\n",
       "    </tr>\n",
       "    <tr>\n",
       "      <th>334</th>\n",
       "      <td>Rua Pero Correia, 892</td>\n",
       "      <td>Vila Mariana</td>\n",
       "      <td>São Paulo</td>\n",
       "      <td>350</td>\n",
       "      <td>6</td>\n",
       "      <td>4</td>\n",
       "      <td>10</td>\n",
       "      <td>R$ 1.700.000</td>\n",
       "    </tr>\n",
       "    <tr>\n",
       "      <th>...</th>\n",
       "      <td>...</td>\n",
       "      <td>...</td>\n",
       "      <td>...</td>\n",
       "      <td>...</td>\n",
       "      <td>...</td>\n",
       "      <td>...</td>\n",
       "      <td>...</td>\n",
       "      <td>...</td>\n",
       "    </tr>\n",
       "    <tr>\n",
       "      <th>9645</th>\n",
       "      <td>Rua Sousa Ramos</td>\n",
       "      <td>Vila Mariana</td>\n",
       "      <td>São Paulo</td>\n",
       "      <td>285</td>\n",
       "      <td>3</td>\n",
       "      <td>5</td>\n",
       "      <td>5</td>\n",
       "      <td>R$ 1.650.000</td>\n",
       "    </tr>\n",
       "    <tr>\n",
       "      <th>9701</th>\n",
       "      <td>Rua Benito Juarez</td>\n",
       "      <td>Vila Mariana</td>\n",
       "      <td>São Paulo</td>\n",
       "      <td>171</td>\n",
       "      <td>3</td>\n",
       "      <td>2</td>\n",
       "      <td>4</td>\n",
       "      <td>R$ 1.650.000</td>\n",
       "    </tr>\n",
       "    <tr>\n",
       "      <th>9737</th>\n",
       "      <td>Rua Benito Juarez</td>\n",
       "      <td>Vila Mariana</td>\n",
       "      <td>São Paulo</td>\n",
       "      <td>171</td>\n",
       "      <td>3</td>\n",
       "      <td>2</td>\n",
       "      <td>4</td>\n",
       "      <td>R$ 1.650.000</td>\n",
       "    </tr>\n",
       "    <tr>\n",
       "      <th>9807</th>\n",
       "      <td>NaN</td>\n",
       "      <td>Vila Mariana</td>\n",
       "      <td>São Paulo</td>\n",
       "      <td>275</td>\n",
       "      <td>3</td>\n",
       "      <td>1</td>\n",
       "      <td>6</td>\n",
       "      <td>R$ 1.500.000</td>\n",
       "    </tr>\n",
       "    <tr>\n",
       "      <th>9852</th>\n",
       "      <td>Rua França Pinto</td>\n",
       "      <td>Vila Mariana</td>\n",
       "      <td>São Paulo</td>\n",
       "      <td>280</td>\n",
       "      <td>3</td>\n",
       "      <td>3</td>\n",
       "      <td>4</td>\n",
       "      <td>R$ 1.600.000</td>\n",
       "    </tr>\n",
       "  </tbody>\n",
       "</table>\n",
       "<p>184 rows × 8 columns</p>\n",
       "</div>"
      ],
      "text/plain": [
       "                               Rua        Bairro     Cidade  Metragem  \\\n",
       "100               Rua Pero Correia  Vila Mariana  São Paulo       250   \n",
       "120   Praça Doutor Carvalho Franco  Vila Mariana  São Paulo       250   \n",
       "155     Rua Professor João Marinho  Vila Mariana  São Paulo       170   \n",
       "160                            NaN  Vila Mariana  São Paulo       228   \n",
       "334         Rua Pero Correia, 892   Vila Mariana  São Paulo       350   \n",
       "...                            ...           ...        ...       ...   \n",
       "9645               Rua Sousa Ramos  Vila Mariana  São Paulo       285   \n",
       "9701             Rua Benito Juarez  Vila Mariana  São Paulo       171   \n",
       "9737             Rua Benito Juarez  Vila Mariana  São Paulo       171   \n",
       "9807                           NaN  Vila Mariana  São Paulo       275   \n",
       "9852              Rua França Pinto  Vila Mariana  São Paulo       280   \n",
       "\n",
       "      Quartos  Banheiros  Vagas         Valor  \n",
       "100         3          3      1  R$ 1.350.000  \n",
       "120         3          5      2  R$ 2.450.000  \n",
       "155         3          4      2  R$ 1.490.000  \n",
       "160         4          5      3  R$ 2.200.000  \n",
       "334         6          4     10  R$ 1.700.000  \n",
       "...       ...        ...    ...           ...  \n",
       "9645        3          5      5  R$ 1.650.000  \n",
       "9701        3          2      4  R$ 1.650.000  \n",
       "9737        3          2      4  R$ 1.650.000  \n",
       "9807        3          1      6  R$ 1.500.000  \n",
       "9852        3          3      4  R$ 1.600.000  \n",
       "\n",
       "[184 rows x 8 columns]"
      ]
     },
     "execution_count": 9,
     "metadata": {},
     "output_type": "execute_result"
    }
   ],
   "source": [
    "imoveis_vila_mariana = df[df['Bairro'] == 'Vila Mariana']\n",
    "imoveis_vila_mariana"
   ]
  },
  {
   "cell_type": "code",
   "execution_count": 10,
   "id": "6734e6e0",
   "metadata": {},
   "outputs": [
    {
     "data": {
      "text/plain": [
       "233.6195652173913"
      ]
     },
     "execution_count": 10,
     "metadata": {},
     "output_type": "execute_result"
    }
   ],
   "source": [
    "imoveis_vila_mariana['Metragem'].mean()"
   ]
  },
  {
   "cell_type": "markdown",
   "id": "2249e5ba",
   "metadata": {},
   "source": [
    "Analisando a quantidade de imóveis por bairro"
   ]
  },
  {
   "cell_type": "code",
   "execution_count": 11,
   "id": "0380200c",
   "metadata": {},
   "outputs": [
    {
     "data": {
      "text/plain": [
       "Alto de Pinheiros     409\n",
       "Jardim Guedala        403\n",
       "Jardim Paulista       309\n",
       "Brooklin Paulista     247\n",
       "Jardim Europa         240\n",
       "                     ... \n",
       "Jardim das Imbuias      1\n",
       "Vila Represa            1\n",
       "Vila Nancy              1\n",
       "Sítio Represa           1\n",
       "Vila Invernada          1\n",
       "Name: Bairro, Length: 701, dtype: int64"
      ]
     },
     "execution_count": 11,
     "metadata": {},
     "output_type": "execute_result"
    }
   ],
   "source": [
    "n_imoveis_bairro = df['Bairro'].value_counts()\n",
    "n_imoveis_bairro"
   ]
  },
  {
   "cell_type": "code",
   "execution_count": 14,
   "id": "d0ba6ca8",
   "metadata": {},
   "outputs": [
    {
     "data": {
      "image/png": "[encoded data removed]",
      "text/plain": [
       "<Figure size 432x288 with 1 Axes>"
      ]
     },
     "metadata": {
      "needs_background": "light"
     },
     "output_type": "display_data"
    }
   ],
   "source": [
    "n_imoveis_bairro.head(10).plot.bar()\n",
    "plt.show()"
   ]
  },
  {
   "cell_type": "markdown",
   "id": "51d0d573",
   "metadata": {},
   "source": [
    "## Desafios - Aula 01"
   ]
  },
  {
   "cell_type": "markdown",
   "id": "d85e771e",
   "metadata": {},
   "source": [
    "**1- Realizar a média de metragem de cada bairro**"
   ]
  },
  {
   "cell_type": "code",
   "execution_count": 23,
   "id": "7c0e1345",
   "metadata": {},
   "outputs": [
    {
     "data": {
      "text/html": [
       "<div>\n",
       "<style scoped>\n",
       "    .dataframe tbody tr th:only-of-type {\n",
       "        vertical-align: middle;\n",
       "    }\n",
       "\n",
       "    .dataframe tbody tr th {\n",
       "        vertical-align: top;\n",
       "    }\n",
       "\n",
       "    .dataframe thead th {\n",
       "        text-align: right;\n",
       "    }\n",
       "</style>\n",
       "<table border=\"1\" class=\"dataframe\">\n",
       "  <thead>\n",
       "    <tr style=\"text-align: right;\">\n",
       "      <th></th>\n",
       "      <th>Bairro</th>\n",
       "      <th>Metragem</th>\n",
       "    </tr>\n",
       "  </thead>\n",
       "  <tbody>\n",
       "    <tr>\n",
       "      <th>0</th>\n",
       "      <td>Aclimação</td>\n",
       "      <td>253.056818</td>\n",
       "    </tr>\n",
       "    <tr>\n",
       "      <th>1</th>\n",
       "      <td>Alto da Boa Vista</td>\n",
       "      <td>418.875000</td>\n",
       "    </tr>\n",
       "    <tr>\n",
       "      <th>2</th>\n",
       "      <td>Alto da Lapa</td>\n",
       "      <td>294.337209</td>\n",
       "    </tr>\n",
       "    <tr>\n",
       "      <th>3</th>\n",
       "      <td>Alto da Mooca</td>\n",
       "      <td>270.050000</td>\n",
       "    </tr>\n",
       "    <tr>\n",
       "      <th>4</th>\n",
       "      <td>Alto de Pinheiros</td>\n",
       "      <td>433.444988</td>\n",
       "    </tr>\n",
       "    <tr>\n",
       "      <th>...</th>\n",
       "      <td>...</td>\n",
       "      <td>...</td>\n",
       "    </tr>\n",
       "    <tr>\n",
       "      <th>696</th>\n",
       "      <td>Vila Água Funda</td>\n",
       "      <td>152.200000</td>\n",
       "    </tr>\n",
       "    <tr>\n",
       "      <th>697</th>\n",
       "      <td>Água Branca</td>\n",
       "      <td>191.000000</td>\n",
       "    </tr>\n",
       "    <tr>\n",
       "      <th>698</th>\n",
       "      <td>Água Fria</td>\n",
       "      <td>165.416667</td>\n",
       "    </tr>\n",
       "    <tr>\n",
       "      <th>699</th>\n",
       "      <td>Água Funda</td>\n",
       "      <td>139.000000</td>\n",
       "    </tr>\n",
       "    <tr>\n",
       "      <th>700</th>\n",
       "      <td>Água Rasa</td>\n",
       "      <td>340.250000</td>\n",
       "    </tr>\n",
       "  </tbody>\n",
       "</table>\n",
       "<p>701 rows × 2 columns</p>\n",
       "</div>"
      ],
      "text/plain": [
       "                Bairro    Metragem\n",
       "0            Aclimação  253.056818\n",
       "1    Alto da Boa Vista  418.875000\n",
       "2         Alto da Lapa  294.337209\n",
       "3        Alto da Mooca  270.050000\n",
       "4    Alto de Pinheiros  433.444988\n",
       "..                 ...         ...\n",
       "696    Vila Água Funda  152.200000\n",
       "697        Água Branca  191.000000\n",
       "698          Água Fria  165.416667\n",
       "699         Água Funda  139.000000\n",
       "700          Água Rasa  340.250000\n",
       "\n",
       "[701 rows x 2 columns]"
      ]
     },
     "execution_count": 23,
     "metadata": {},
     "output_type": "execute_result"
    }
   ],
   "source": [
    "media_metragem_bairros = df.groupby('Bairro').agg({'Metragem':'mean'}).reset_index()\n",
    "media_metragem_bairros"
   ]
  },
  {
   "cell_type": "markdown",
   "id": "6bd170a1",
   "metadata": {},
   "source": [
    "**2- Duas formas de selecionar os dados por bairro**"
   ]
  },
  {
   "cell_type": "code",
   "execution_count": 49,
   "id": "dd33d706",
   "metadata": {},
   "outputs": [
    {
     "data": {
      "text/html": [
       "<div>\n",
       "<style scoped>\n",
       "    .dataframe tbody tr th:only-of-type {\n",
       "        vertical-align: middle;\n",
       "    }\n",
       "\n",
       "    .dataframe tbody tr th {\n",
       "        vertical-align: top;\n",
       "    }\n",
       "\n",
       "    .dataframe thead th {\n",
       "        text-align: right;\n",
       "    }\n",
       "</style>\n",
       "<table border=\"1\" class=\"dataframe\">\n",
       "  <thead>\n",
       "    <tr style=\"text-align: right;\">\n",
       "      <th></th>\n",
       "      <th>Rua</th>\n",
       "      <th>Bairro</th>\n",
       "      <th>Cidade</th>\n",
       "      <th>Metragem</th>\n",
       "      <th>Quartos</th>\n",
       "      <th>Banheiros</th>\n",
       "      <th>Vagas</th>\n",
       "      <th>Valor</th>\n",
       "    </tr>\n",
       "  </thead>\n",
       "  <tbody>\n",
       "    <tr>\n",
       "      <th>100</th>\n",
       "      <td>Rua Pero Correia</td>\n",
       "      <td>Vila Mariana</td>\n",
       "      <td>São Paulo</td>\n",
       "      <td>250</td>\n",
       "      <td>3</td>\n",
       "      <td>3</td>\n",
       "      <td>1</td>\n",
       "      <td>R$ 1.350.000</td>\n",
       "    </tr>\n",
       "    <tr>\n",
       "      <th>120</th>\n",
       "      <td>Praça Doutor Carvalho Franco</td>\n",
       "      <td>Vila Mariana</td>\n",
       "      <td>São Paulo</td>\n",
       "      <td>250</td>\n",
       "      <td>3</td>\n",
       "      <td>5</td>\n",
       "      <td>2</td>\n",
       "      <td>R$ 2.450.000</td>\n",
       "    </tr>\n",
       "    <tr>\n",
       "      <th>155</th>\n",
       "      <td>Rua Professor João Marinho</td>\n",
       "      <td>Vila Mariana</td>\n",
       "      <td>São Paulo</td>\n",
       "      <td>170</td>\n",
       "      <td>3</td>\n",
       "      <td>4</td>\n",
       "      <td>2</td>\n",
       "      <td>R$ 1.490.000</td>\n",
       "    </tr>\n",
       "    <tr>\n",
       "      <th>160</th>\n",
       "      <td>NaN</td>\n",
       "      <td>Vila Mariana</td>\n",
       "      <td>São Paulo</td>\n",
       "      <td>228</td>\n",
       "      <td>4</td>\n",
       "      <td>5</td>\n",
       "      <td>3</td>\n",
       "      <td>R$ 2.200.000</td>\n",
       "    </tr>\n",
       "    <tr>\n",
       "      <th>334</th>\n",
       "      <td>Rua Pero Correia, 892</td>\n",
       "      <td>Vila Mariana</td>\n",
       "      <td>São Paulo</td>\n",
       "      <td>350</td>\n",
       "      <td>6</td>\n",
       "      <td>4</td>\n",
       "      <td>10</td>\n",
       "      <td>R$ 1.700.000</td>\n",
       "    </tr>\n",
       "    <tr>\n",
       "      <th>...</th>\n",
       "      <td>...</td>\n",
       "      <td>...</td>\n",
       "      <td>...</td>\n",
       "      <td>...</td>\n",
       "      <td>...</td>\n",
       "      <td>...</td>\n",
       "      <td>...</td>\n",
       "      <td>...</td>\n",
       "    </tr>\n",
       "    <tr>\n",
       "      <th>9645</th>\n",
       "      <td>Rua Sousa Ramos</td>\n",
       "      <td>Vila Mariana</td>\n",
       "      <td>São Paulo</td>\n",
       "      <td>285</td>\n",
       "      <td>3</td>\n",
       "      <td>5</td>\n",
       "      <td>5</td>\n",
       "      <td>R$ 1.650.000</td>\n",
       "    </tr>\n",
       "    <tr>\n",
       "      <th>9701</th>\n",
       "      <td>Rua Benito Juarez</td>\n",
       "      <td>Vila Mariana</td>\n",
       "      <td>São Paulo</td>\n",
       "      <td>171</td>\n",
       "      <td>3</td>\n",
       "      <td>2</td>\n",
       "      <td>4</td>\n",
       "      <td>R$ 1.650.000</td>\n",
       "    </tr>\n",
       "    <tr>\n",
       "      <th>9737</th>\n",
       "      <td>Rua Benito Juarez</td>\n",
       "      <td>Vila Mariana</td>\n",
       "      <td>São Paulo</td>\n",
       "      <td>171</td>\n",
       "      <td>3</td>\n",
       "      <td>2</td>\n",
       "      <td>4</td>\n",
       "      <td>R$ 1.650.000</td>\n",
       "    </tr>\n",
       "    <tr>\n",
       "      <th>9807</th>\n",
       "      <td>NaN</td>\n",
       "      <td>Vila Mariana</td>\n",
       "      <td>São Paulo</td>\n",
       "      <td>275</td>\n",
       "      <td>3</td>\n",
       "      <td>1</td>\n",
       "      <td>6</td>\n",
       "      <td>R$ 1.500.000</td>\n",
       "    </tr>\n",
       "    <tr>\n",
       "      <th>9852</th>\n",
       "      <td>Rua França Pinto</td>\n",
       "      <td>Vila Mariana</td>\n",
       "      <td>São Paulo</td>\n",
       "      <td>280</td>\n",
       "      <td>3</td>\n",
       "      <td>3</td>\n",
       "      <td>4</td>\n",
       "      <td>R$ 1.600.000</td>\n",
       "    </tr>\n",
       "  </tbody>\n",
       "</table>\n",
       "<p>184 rows × 8 columns</p>\n",
       "</div>"
      ],
      "text/plain": [
       "                               Rua        Bairro     Cidade  Metragem  \\\n",
       "100               Rua Pero Correia  Vila Mariana  São Paulo       250   \n",
       "120   Praça Doutor Carvalho Franco  Vila Mariana  São Paulo       250   \n",
       "155     Rua Professor João Marinho  Vila Mariana  São Paulo       170   \n",
       "160                            NaN  Vila Mariana  São Paulo       228   \n",
       "334         Rua Pero Correia, 892   Vila Mariana  São Paulo       350   \n",
       "...                            ...           ...        ...       ...   \n",
       "9645               Rua Sousa Ramos  Vila Mariana  São Paulo       285   \n",
       "9701             Rua Benito Juarez  Vila Mariana  São Paulo       171   \n",
       "9737             Rua Benito Juarez  Vila Mariana  São Paulo       171   \n",
       "9807                           NaN  Vila Mariana  São Paulo       275   \n",
       "9852              Rua França Pinto  Vila Mariana  São Paulo       280   \n",
       "\n",
       "      Quartos  Banheiros  Vagas         Valor  \n",
       "100         3          3      1  R$ 1.350.000  \n",
       "120         3          5      2  R$ 2.450.000  \n",
       "155         3          4      2  R$ 1.490.000  \n",
       "160         4          5      3  R$ 2.200.000  \n",
       "334         6          4     10  R$ 1.700.000  \n",
       "...       ...        ...    ...           ...  \n",
       "9645        3          5      5  R$ 1.650.000  \n",
       "9701        3          2      4  R$ 1.650.000  \n",
       "9737        3          2      4  R$ 1.650.000  \n",
       "9807        3          1      6  R$ 1.500.000  \n",
       "9852        3          3      4  R$ 1.600.000  \n",
       "\n",
       "[184 rows x 8 columns]"
      ]
     },
     "execution_count": 49,
     "metadata": {},
     "output_type": "execute_result"
    }
   ],
   "source": [
    "df.query('Bairro == \"Vila Mariana\"')"
   ]
  },
  {
   "cell_type": "code",
   "execution_count": 56,
   "id": "e1cd0281",
   "metadata": {},
   "outputs": [
    {
     "data": {
      "text/html": [
       "<div>\n",
       "<style scoped>\n",
       "    .dataframe tbody tr th:only-of-type {\n",
       "        vertical-align: middle;\n",
       "    }\n",
       "\n",
       "    .dataframe tbody tr th {\n",
       "        vertical-align: top;\n",
       "    }\n",
       "\n",
       "    .dataframe thead th {\n",
       "        text-align: right;\n",
       "    }\n",
       "</style>\n",
       "<table border=\"1\" class=\"dataframe\">\n",
       "  <thead>\n",
       "    <tr style=\"text-align: right;\">\n",
       "      <th></th>\n",
       "      <th>Rua</th>\n",
       "      <th>Bairro</th>\n",
       "      <th>Cidade</th>\n",
       "      <th>Metragem</th>\n",
       "      <th>Quartos</th>\n",
       "      <th>Banheiros</th>\n",
       "      <th>Vagas</th>\n",
       "      <th>Valor</th>\n",
       "    </tr>\n",
       "  </thead>\n",
       "  <tbody>\n",
       "    <tr>\n",
       "      <th>100</th>\n",
       "      <td>Rua Pero Correia</td>\n",
       "      <td>Vila Mariana</td>\n",
       "      <td>São Paulo</td>\n",
       "      <td>250</td>\n",
       "      <td>3</td>\n",
       "      <td>3</td>\n",
       "      <td>1</td>\n",
       "      <td>R$ 1.350.000</td>\n",
       "    </tr>\n",
       "    <tr>\n",
       "      <th>120</th>\n",
       "      <td>Praça Doutor Carvalho Franco</td>\n",
       "      <td>Vila Mariana</td>\n",
       "      <td>São Paulo</td>\n",
       "      <td>250</td>\n",
       "      <td>3</td>\n",
       "      <td>5</td>\n",
       "      <td>2</td>\n",
       "      <td>R$ 2.450.000</td>\n",
       "    </tr>\n",
       "    <tr>\n",
       "      <th>155</th>\n",
       "      <td>Rua Professor João Marinho</td>\n",
       "      <td>Vila Mariana</td>\n",
       "      <td>São Paulo</td>\n",
       "      <td>170</td>\n",
       "      <td>3</td>\n",
       "      <td>4</td>\n",
       "      <td>2</td>\n",
       "      <td>R$ 1.490.000</td>\n",
       "    </tr>\n",
       "    <tr>\n",
       "      <th>160</th>\n",
       "      <td>NaN</td>\n",
       "      <td>Vila Mariana</td>\n",
       "      <td>São Paulo</td>\n",
       "      <td>228</td>\n",
       "      <td>4</td>\n",
       "      <td>5</td>\n",
       "      <td>3</td>\n",
       "      <td>R$ 2.200.000</td>\n",
       "    </tr>\n",
       "    <tr>\n",
       "      <th>334</th>\n",
       "      <td>Rua Pero Correia, 892</td>\n",
       "      <td>Vila Mariana</td>\n",
       "      <td>São Paulo</td>\n",
       "      <td>350</td>\n",
       "      <td>6</td>\n",
       "      <td>4</td>\n",
       "      <td>10</td>\n",
       "      <td>R$ 1.700.000</td>\n",
       "    </tr>\n",
       "    <tr>\n",
       "      <th>...</th>\n",
       "      <td>...</td>\n",
       "      <td>...</td>\n",
       "      <td>...</td>\n",
       "      <td>...</td>\n",
       "      <td>...</td>\n",
       "      <td>...</td>\n",
       "      <td>...</td>\n",
       "      <td>...</td>\n",
       "    </tr>\n",
       "    <tr>\n",
       "      <th>9645</th>\n",
       "      <td>Rua Sousa Ramos</td>\n",
       "      <td>Vila Mariana</td>\n",
       "      <td>São Paulo</td>\n",
       "      <td>285</td>\n",
       "      <td>3</td>\n",
       "      <td>5</td>\n",
       "      <td>5</td>\n",
       "      <td>R$ 1.650.000</td>\n",
       "    </tr>\n",
       "    <tr>\n",
       "      <th>9701</th>\n",
       "      <td>Rua Benito Juarez</td>\n",
       "      <td>Vila Mariana</td>\n",
       "      <td>São Paulo</td>\n",
       "      <td>171</td>\n",
       "      <td>3</td>\n",
       "      <td>2</td>\n",
       "      <td>4</td>\n",
       "      <td>R$ 1.650.000</td>\n",
       "    </tr>\n",
       "    <tr>\n",
       "      <th>9737</th>\n",
       "      <td>Rua Benito Juarez</td>\n",
       "      <td>Vila Mariana</td>\n",
       "      <td>São Paulo</td>\n",
       "      <td>171</td>\n",
       "      <td>3</td>\n",
       "      <td>2</td>\n",
       "      <td>4</td>\n",
       "      <td>R$ 1.650.000</td>\n",
       "    </tr>\n",
       "    <tr>\n",
       "      <th>9807</th>\n",
       "      <td>NaN</td>\n",
       "      <td>Vila Mariana</td>\n",
       "      <td>São Paulo</td>\n",
       "      <td>275</td>\n",
       "      <td>3</td>\n",
       "      <td>1</td>\n",
       "      <td>6</td>\n",
       "      <td>R$ 1.500.000</td>\n",
       "    </tr>\n",
       "    <tr>\n",
       "      <th>9852</th>\n",
       "      <td>Rua França Pinto</td>\n",
       "      <td>Vila Mariana</td>\n",
       "      <td>São Paulo</td>\n",
       "      <td>280</td>\n",
       "      <td>3</td>\n",
       "      <td>3</td>\n",
       "      <td>4</td>\n",
       "      <td>R$ 1.600.000</td>\n",
       "    </tr>\n",
       "  </tbody>\n",
       "</table>\n",
       "<p>184 rows × 8 columns</p>\n",
       "</div>"
      ],
      "text/plain": [
       "                               Rua        Bairro     Cidade  Metragem  \\\n",
       "100               Rua Pero Correia  Vila Mariana  São Paulo       250   \n",
       "120   Praça Doutor Carvalho Franco  Vila Mariana  São Paulo       250   \n",
       "155     Rua Professor João Marinho  Vila Mariana  São Paulo       170   \n",
       "160                            NaN  Vila Mariana  São Paulo       228   \n",
       "334         Rua Pero Correia, 892   Vila Mariana  São Paulo       350   \n",
       "...                            ...           ...        ...       ...   \n",
       "9645               Rua Sousa Ramos  Vila Mariana  São Paulo       285   \n",
       "9701             Rua Benito Juarez  Vila Mariana  São Paulo       171   \n",
       "9737             Rua Benito Juarez  Vila Mariana  São Paulo       171   \n",
       "9807                           NaN  Vila Mariana  São Paulo       275   \n",
       "9852              Rua França Pinto  Vila Mariana  São Paulo       280   \n",
       "\n",
       "      Quartos  Banheiros  Vagas         Valor  \n",
       "100         3          3      1  R$ 1.350.000  \n",
       "120         3          5      2  R$ 2.450.000  \n",
       "155         3          4      2  R$ 1.490.000  \n",
       "160         4          5      3  R$ 2.200.000  \n",
       "334         6          4     10  R$ 1.700.000  \n",
       "...       ...        ...    ...           ...  \n",
       "9645        3          5      5  R$ 1.650.000  \n",
       "9701        3          2      4  R$ 1.650.000  \n",
       "9737        3          2      4  R$ 1.650.000  \n",
       "9807        3          1      6  R$ 1.500.000  \n",
       "9852        3          3      4  R$ 1.600.000  \n",
       "\n",
       "[184 rows x 8 columns]"
      ]
     },
     "execution_count": 56,
     "metadata": {},
     "output_type": "execute_result"
    }
   ],
   "source": [
    "df[df.eval('Bairro == \"Vila Mariana\"')]"
   ]
  },
  {
   "cell_type": "markdown",
   "id": "5c5c9025",
   "metadata": {},
   "source": [
    "**3- Explorar alguns gráficos na documentação do Pandas e aplicar nas demais colunas do DataFrame**"
   ]
  },
  {
   "cell_type": "code",
   "execution_count": 67,
   "id": "e85353e6",
   "metadata": {},
   "outputs": [
    {
     "data": {
      "image/png": "[encoded data removed]",
      "text/plain": [
       "<Figure size 432x288 with 1 Axes>"
      ]
     },
     "metadata": {
      "needs_background": "light"
     },
     "output_type": "display_data"
    }
   ],
   "source": [
    "df['Vagas'].plot.hist(bins=20)\n",
    "plt.show()"
   ]
  },
  {
   "cell_type": "markdown",
   "id": "96108b37",
   "metadata": {},
   "source": [
    "O gráfico mostra o histograma de frequência da quantidade de vagas para veículos. Podemos observar que a frequência é bastante elevada no intervalo de 0 à 10, além de uma baixa frequência no intervalo de 10 à 30 vagas."
   ]
  },
  {
   "cell_type": "code",
   "execution_count": 66,
   "id": "bb6ad25a",
   "metadata": {},
   "outputs": [
    {
     "data": {
      "image/png": "[encoded data removed]",
      "text/plain": [
       "<Figure size 432x288 with 1 Axes>"
      ]
     },
     "metadata": {
      "needs_background": "light"
     },
     "output_type": "display_data"
    }
   ],
   "source": [
    "df.plot.scatter(x='Quartos', y='Banheiros')\n",
    "plt.show()"
   ]
  },
  {
   "cell_type": "markdown",
   "id": "5e191d0c",
   "metadata": {},
   "source": [
    "O gráfico mostra a dispersão dos dados baseados na quantidade de quartos e banheiros que o imóvel tem. Podemos observar um ponto bastante disperso, o que pode indicar que ele foi inserido erroneamente (se pensarmos em um imóvel que tem 4 quartos e **40** banheiros!!)"
   ]
  },
  {
   "cell_type": "markdown",
   "id": "7a75805d",
   "metadata": {},
   "source": [
    "**4- Pegar outras estatísticas dos dados**"
   ]
  },
  {
   "cell_type": "code",
   "execution_count": 25,
   "id": "165b66b2",
   "metadata": {},
   "outputs": [
    {
     "data": {
      "text/html": [
       "<div>\n",
       "<style scoped>\n",
       "    .dataframe tbody tr th:only-of-type {\n",
       "        vertical-align: middle;\n",
       "    }\n",
       "\n",
       "    .dataframe tbody tr th {\n",
       "        vertical-align: top;\n",
       "    }\n",
       "\n",
       "    .dataframe thead th {\n",
       "        text-align: right;\n",
       "    }\n",
       "</style>\n",
       "<table border=\"1\" class=\"dataframe\">\n",
       "  <thead>\n",
       "    <tr style=\"text-align: right;\">\n",
       "      <th></th>\n",
       "      <th>Metragem</th>\n",
       "      <th>Quartos</th>\n",
       "      <th>Banheiros</th>\n",
       "      <th>Vagas</th>\n",
       "    </tr>\n",
       "  </thead>\n",
       "  <tbody>\n",
       "    <tr>\n",
       "      <th>count</th>\n",
       "      <td>10008.000000</td>\n",
       "      <td>10008.000000</td>\n",
       "      <td>10008.000000</td>\n",
       "      <td>10008.000000</td>\n",
       "    </tr>\n",
       "    <tr>\n",
       "      <th>mean</th>\n",
       "      <td>442.300659</td>\n",
       "      <td>3.483114</td>\n",
       "      <td>3.879097</td>\n",
       "      <td>4.097222</td>\n",
       "    </tr>\n",
       "    <tr>\n",
       "      <th>std</th>\n",
       "      <td>7515.379389</td>\n",
       "      <td>1.064200</td>\n",
       "      <td>1.988467</td>\n",
       "      <td>2.824014</td>\n",
       "    </tr>\n",
       "    <tr>\n",
       "      <th>min</th>\n",
       "      <td>10.000000</td>\n",
       "      <td>1.000000</td>\n",
       "      <td>1.000000</td>\n",
       "      <td>1.000000</td>\n",
       "    </tr>\n",
       "    <tr>\n",
       "      <th>25%</th>\n",
       "      <td>173.000000</td>\n",
       "      <td>3.000000</td>\n",
       "      <td>2.000000</td>\n",
       "      <td>2.000000</td>\n",
       "    </tr>\n",
       "    <tr>\n",
       "      <th>50%</th>\n",
       "      <td>290.000000</td>\n",
       "      <td>3.000000</td>\n",
       "      <td>4.000000</td>\n",
       "      <td>4.000000</td>\n",
       "    </tr>\n",
       "    <tr>\n",
       "      <th>75%</th>\n",
       "      <td>460.250000</td>\n",
       "      <td>4.000000</td>\n",
       "      <td>5.000000</td>\n",
       "      <td>5.000000</td>\n",
       "    </tr>\n",
       "    <tr>\n",
       "      <th>max</th>\n",
       "      <td>750000.000000</td>\n",
       "      <td>16.000000</td>\n",
       "      <td>40.000000</td>\n",
       "      <td>50.000000</td>\n",
       "    </tr>\n",
       "  </tbody>\n",
       "</table>\n",
       "</div>"
      ],
      "text/plain": [
       "            Metragem       Quartos     Banheiros         Vagas\n",
       "count   10008.000000  10008.000000  10008.000000  10008.000000\n",
       "mean      442.300659      3.483114      3.879097      4.097222\n",
       "std      7515.379389      1.064200      1.988467      2.824014\n",
       "min        10.000000      1.000000      1.000000      1.000000\n",
       "25%       173.000000      3.000000      2.000000      2.000000\n",
       "50%       290.000000      3.000000      4.000000      4.000000\n",
       "75%       460.250000      4.000000      5.000000      5.000000\n",
       "max    750000.000000     16.000000     40.000000     50.000000"
      ]
     },
     "execution_count": 25,
     "metadata": {},
     "output_type": "execute_result"
    }
   ],
   "source": [
    "df.describe()"
   ]
  },
  {
   "cell_type": "markdown",
   "id": "5c2e0614",
   "metadata": {},
   "source": [
    "**5- Descobrir os bairros que não possuem nome de Rua**"
   ]
  },
  {
   "cell_type": "code",
   "execution_count": 32,
   "id": "2f443aa9",
   "metadata": {},
   "outputs": [
    {
     "data": {
      "text/plain": [
       "3                         Jardim Morumbi\n",
       "11                      Jardim Luzitânia\n",
       "31                        Parque da Lapa\n",
       "56      Chácara Santo Antônio (Zona Sul)\n",
       "57                        Jardim Guedala\n",
       "                      ...               \n",
       "9963                   Jardim Petrópolis\n",
       "9989                Parque Alves de Lima\n",
       "9991                        Vila Formosa\n",
       "9995                       Jardim Leonor\n",
       "9999                   Jardim Petrópolis\n",
       "Name: Bairro, Length: 3434, dtype: object"
      ]
     },
     "execution_count": 32,
     "metadata": {},
     "output_type": "execute_result"
    }
   ],
   "source": [
    "bairros_sem_rua = df[df['Rua'].isna()]['Bairro']\n",
    "bairros_sem_rua"
   ]
  },
  {
   "cell_type": "code",
   "execution_count": 37,
   "id": "816ab470",
   "metadata": {},
   "outputs": [
    {
     "data": {
      "text/plain": [
       "394"
      ]
     },
     "execution_count": 37,
     "metadata": {},
     "output_type": "execute_result"
    }
   ],
   "source": [
    "len(bairros_sem_rua.value_counts())"
   ]
  },
  {
   "cell_type": "code",
   "execution_count": 40,
   "id": "98fd21bf",
   "metadata": {},
   "outputs": [
    {
     "data": {
      "text/plain": [
       "56.20542082738944"
      ]
     },
     "execution_count": 40,
     "metadata": {},
     "output_type": "execute_result"
    }
   ],
   "source": [
    "( len(bairros_sem_rua.value_counts()) / len(df['Bairro'].value_counts()) ) * 100"
   ]
  },
  {
   "cell_type": "markdown",
   "id": "75153c60",
   "metadata": {},
   "source": [
    "Aproximadamente, 56,2% dos bairros do DataFrame possuem dados faltantes na _feature_ Rua"
   ]
  }
 ],
 "metadata": {
  "kernelspec": {
   "display_name": "Python 3 (ipykernel)",
   "language": "python",
   "name": "python3"
  },
  "language_info": {
   "codemirror_mode": {
    "name": "ipython",
    "version": 3
   },
   "file_extension": ".py",
   "mimetype": "text/x-python",
   "name": "python",
   "nbconvert_exporter": "python",
   "pygments_lexer": "ipython3",
   "version": "3.9.7"
  }
 },
 "nbformat": 4,
 "nbformat_minor": 5
}
